{
  "nbformat": 4,
  "nbformat_minor": 0,
  "metadata": {
    "colab": {
      "name": "Untitled0.ipynb",
      "provenance": [],
      "authorship_tag": "ABX9TyMshZdaGzkNMzDjXdlBnM3O",
      "include_colab_link": true
    },
    "kernelspec": {
      "name": "python3",
      "display_name": "Python 3"
    }
  },
  "cells": [
    {
      "cell_type": "markdown",
      "metadata": {
        "id": "view-in-github",
        "colab_type": "text"
      },
      "source": [
        "<a href=\"https://colab.research.google.com/github/joaxchon/Stochastics/blob/master/Untitled0.ipynb\" target=\"_parent\"><img src=\"https://colab.research.google.com/assets/colab-badge.svg\" alt=\"Open In Colab\"/></a>"
      ]
    },
    {
      "cell_type": "code",
      "metadata": {
        "id": "7NwWbiWRjn9I",
        "colab_type": "code",
        "colab": {}
      },
      "source": [
        "!rm -rf sample_data\n",
        "!sudo apt-get -qq install texlive-full\n",
        "!sudo apt-get -qq install ffmpeg\n",
        "!sudo apt-get -qq install sox\n",
        "!sudo apt-get -qq install libcairo2-dev libjpeg-dev libgif-dev python3-dev libffi-dev\n",
        "!python3 -m pip install -q pyreadline\n",
        "!python3 -m pip install -q pydub\n",
        "!git clone -q https://github.com/3b1b/manim.git > /dev/null\n",
        "%cd manim\n",
        "!python3 -m pip install -qr requirements.txt\n",
        "\n",
        "!python3 -m manim example_scenes.py SquareToCircle -pl\n",
        "\n",
        "\n"
      ],
      "execution_count": 0,
      "outputs": []
    },
    {
      "cell_type": "code",
      "metadata": {
        "id": "B7g6cwNYb0zN",
        "colab_type": "code",
        "colab": {}
      },
      "source": [
        ""
      ],
      "execution_count": 0,
      "outputs": []
    },
    {
      "cell_type": "markdown",
      "metadata": {
        "id": "LSLbihCwu9DJ",
        "colab_type": "text"
      },
      "source": [
        "# New Section"
      ]
    },
    {
      "cell_type": "code",
      "metadata": {
        "id": "YRF-5pns3K71",
        "colab_type": "code",
        "colab": {
          "base_uri": "https://localhost:8080/",
          "height": 122
        },
        "outputId": "3e702975-e891-45fc-da3c-701f10a087ed"
      },
      "source": [
        "!python3 -m manim example_scenes.py WriteStuff -pl"
      ],
      "execution_count": 22,
      "outputs": [
        {
          "output_type": "stream",
          "text": [
            "Media will be written to ./media/. You can change this behavior with the --media_dir flag.\n",
            "\n",
            "File ready at /content/manim/manim/media/videos/example_scenes/480p15/WriteStuff.mp4\n",
            "\n",
            "Played 3 animations\n"
          ],
          "name": "stdout"
        }
      ]
    },
    {
      "cell_type": "code",
      "metadata": {
        "id": "Gt_UYLYb03-g",
        "colab_type": "code",
        "colab": {
          "base_uri": "https://localhost:8080/",
          "height": 173
        },
        "outputId": "244f09c8-0fa5-498a-a6a7-c26f5d782b36"
      },
      "source": [
        "!python3 -m manim example_scenes.py Equations -pl"
      ],
      "execution_count": 31,
      "outputs": [
        {
          "output_type": "stream",
          "text": [
            "Media will be written to ./media/. You can change this behavior with the --media_dir flag.\n",
            "Writing \"\\centering $ \\mu_n \\rightarrow \\mu $$f_n(x) \\to f(x)$$z_n \\to z$\" to ./media/Tex/4ae925b9d4e16659.tex\n",
            "Writing \"$f_n(x) \\to f(x)$\" to ./media/Tex/c7f4ca03b240995e.tex\n",
            "Writing \"$z_n \\to z$\" to ./media/Tex/2d8c7b3098375791.tex\n",
            "\n",
            "File ready at /content/manim/manim/media/videos/example_scenes/480p15/Equations.mp4\n",
            "\n",
            "Played 7 animations\n"
          ],
          "name": "stdout"
        }
      ]
    },
    {
      "cell_type": "code",
      "metadata": {
        "id": "eIFIN8b2TSQ2",
        "colab_type": "code",
        "colab": {}
      },
      "source": [
        "!python3 -m manim example_scenes.py OpeningWithTitles -pl"
      ],
      "execution_count": 0,
      "outputs": []
    },
    {
      "cell_type": "code",
      "metadata": {
        "colab_type": "code",
        "id": "pWkrg4tLTSt9",
        "colab": {}
      },
      "source": [
        "!python3 -m manim example_scenes.py MoveToEx -pl"
      ],
      "execution_count": 0,
      "outputs": []
    }
  ]
}